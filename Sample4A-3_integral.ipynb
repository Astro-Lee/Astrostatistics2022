{
 "cells": [
  {
   "cell_type": "markdown",
   "id": "73547ae0-61a8-432a-be94-406a6ab334bf",
   "metadata": {},
   "source": [
    "## Sample 4A-3 Numerical intergral"
   ]
  },
  {
   "cell_type": "code",
   "execution_count": null,
   "id": "a2a219cf-ef6c-46db-9d5c-83677a23a4ac",
   "metadata": {},
   "outputs": [],
   "source": []
  }
 ],
 "metadata": {
  "kernelspec": {
   "display_name": "Python 3 (ipykernel)",
   "language": "python",
   "name": "python3"
  },
  "language_info": {
   "codemirror_mode": {
    "name": "ipython",
    "version": 3
   },
   "file_extension": ".py",
   "mimetype": "text/x-python",
   "name": "python",
   "nbconvert_exporter": "python",
   "pygments_lexer": "ipython3",
   "version": "3.9.7"
  }
 },
 "nbformat": 4,
 "nbformat_minor": 5
}
