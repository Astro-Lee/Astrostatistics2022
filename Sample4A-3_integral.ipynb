{
 "cells": [
  {
   "cell_type": "markdown",
   "id": "73547ae0-61a8-432a-be94-406a6ab334bf",
   "metadata": {},
   "source": [
    "## Sample 4A-3 Numerical intergral"
   ]
  },
  {
   "cell_type": "code",
   "execution_count": 6,
   "id": "1a08c010-0af8-4c06-9811-024584e0d852",
   "metadata": {},
   "outputs": [],
   "source": [
    "%matplotlib inline\n",
    "import numpy as np\n",
    "import scipy.stats as stats\n",
    "from scipy.integrate import quad, dblquad\n",
    "import matplotlib.pyplot as plt\n",
    "import matplotlib\n",
    "from scipy.interpolate import interp1d\n",
    "matplotlib.rc('xtick', labelsize=12) \n",
    "matplotlib.rc('ytick', labelsize=12) "
   ]
  },
  {
   "cell_type": "code",
   "execution_count": 5,
   "id": "a2a219cf-ef6c-46db-9d5c-83677a23a4ac",
   "metadata": {},
   "outputs": [
    {
     "name": "stdout",
     "output_type": "stream",
     "text": [
      "integral value is: (0.9999999999999999, 2.8010504696421464e-14)\n"
     ]
    }
   ],
   "source": [
    "def func1(x1, w):\n",
    "    return np.sin(x1*w[0])*2.+w[1]\n",
    "\n",
    "print('integral value is:',quad(func1, -1., 1., args=([10.,0.5])))"
   ]
  },
  {
   "cell_type": "code",
   "execution_count": 7,
   "id": "5b91a19f-fdff-4415-9929-c10128710265",
   "metadata": {},
   "outputs": [
    {
     "name": "stdout",
     "output_type": "stream",
     "text": [
      "integral value is: (0.24999999999999997, 5.539061329123429e-15)\n"
     ]
    }
   ],
   "source": [
    "def func2(y,x):\n",
    "    return x*y\n",
    "print('integral value is:',dblquad(func2, 0, 1.,0., 1.))"
   ]
  },
  {
   "cell_type": "code",
   "execution_count": null,
   "id": "c0f46c61-bd18-4bc6-9405-6119109e6645",
   "metadata": {},
   "outputs": [],
   "source": []
  }
 ],
 "metadata": {
  "kernelspec": {
   "display_name": "Python 3 (ipykernel)",
   "language": "python",
   "name": "python3"
  },
  "language_info": {
   "codemirror_mode": {
    "name": "ipython",
    "version": 3
   },
   "file_extension": ".py",
   "mimetype": "text/x-python",
   "name": "python",
   "nbconvert_exporter": "python",
   "pygments_lexer": "ipython3",
   "version": "3.9.7"
  }
 },
 "nbformat": 4,
 "nbformat_minor": 5
}
