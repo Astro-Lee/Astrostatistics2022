{
 "cells": [
  {
   "cell_type": "markdown",
   "metadata": {},
   "source": [
    "## Sample 1.2 for Astrostatistics\n",
    "This sample displays some simple but important codes from which you can quickly learn how to program by python, in the context of astronomy."
   ]
  },
  {
   "cell_type": "code",
   "execution_count": 1,
   "metadata": {},
   "outputs": [],
   "source": [
    "import numpy as np"
   ]
  },
  {
   "cell_type": "markdown",
   "metadata": {},
   "source": [
    "Here, I show the frequently used data type in python."
   ]
  },
  {
   "cell_type": "code",
   "execution_count": 2,
   "metadata": {},
   "outputs": [
    {
     "name": "stdout",
     "output_type": "stream",
     "text": [
      "[1, 3.0, 'rrr']\n",
      "<class 'list'>\n",
      "(3,)\n",
      "(4,)\n",
      "[1, 3.0, 'rrr', 2.0, [2, 3.0, 'rr']]\n"
     ]
    }
   ],
   "source": [
    "'''\n",
    "Data type\n",
    "'''\n",
    "#list\n",
    "a = [1, 3., 'rrr']\n",
    "print(a)\n",
    "print(type(a))\n",
    "print(np.shape(a))\n",
    "a.append(2.)\n",
    "print(np.shape(a))\n",
    "a.append([2,3.,'rr'])\n",
    "print(a)"
   ]
  },
  {
   "cell_type": "code",
   "execution_count": 3,
   "metadata": {},
   "outputs": [
    {
     "name": "stdout",
     "output_type": "stream",
     "text": [
      "<class 'numpy.ndarray'>\n",
      "['1' '3.0' 'rrr']\n"
     ]
    }
   ],
   "source": [
    "#ndarray\n",
    "a = [1, 3., 'rrr']\n",
    "b = np.array(a)\n",
    "print(type(b))\n",
    "print(b)"
   ]
  },
  {
   "cell_type": "code",
   "execution_count": 4,
   "metadata": {},
   "outputs": [
    {
     "name": "stdout",
     "output_type": "stream",
     "text": [
      "[[1. 2. 3.]\n",
      " [4. 5. 6.]]\n",
      "(2, 3)\n",
      "[[1. 4.]\n",
      " [2. 5.]\n",
      " [3. 6.]]\n",
      "(3, 2)\n",
      "[[ 1.  4.  9.]\n",
      " [16. 25. 36.]]\n",
      "[[ 36. 174.]\n",
      " [ 78. 405.]]\n"
     ]
    }
   ],
   "source": [
    "#array operation\n",
    "a = np.array([[1., 2., 3.],[4.,5.,6.]])\n",
    "print(a)\n",
    "print(np.shape(a))\n",
    "b = a.T\n",
    "print(b)\n",
    "print(np.shape(b))\n",
    "c = a*a\n",
    "print(c)\n",
    "d = np.dot(a,b**2)\n",
    "print(d)"
   ]
  },
  {
   "cell_type": "code",
   "execution_count": 5,
   "metadata": {},
   "outputs": [
    {
     "name": "stdout",
     "output_type": "stream",
     "text": [
      "<class 'tuple'>\n"
     ]
    }
   ],
   "source": [
    "#tuple\n",
    "a = (23, [34,1.,7],'ee')\n",
    "print(type(a))"
   ]
  },
  {
   "cell_type": "code",
   "execution_count": 6,
   "metadata": {},
   "outputs": [
    {
     "name": "stdout",
     "output_type": "stream",
     "text": [
      "{'one': 1, 'two': 2, 'three': 3}\n",
      "1\n",
      "{'one': 1, 'two': 2, 'three': 3, 'four': 4}\n",
      "{'one': 1, 'two': 2, 'three': 33, 'four': 4}\n"
     ]
    }
   ],
   "source": [
    "#dictionary\n",
    "d = {'one':1, 'two':2, 'three':3}\n",
    "print(d)\n",
    "print(d['one'])\n",
    "d['four'] = 4\n",
    "print(d)\n",
    "d['three'] = 33\n",
    "print(d)"
   ]
  },
  {
   "cell_type": "markdown",
   "metadata": {},
   "source": [
    "How to write a loop in python"
   ]
  },
  {
   "cell_type": "code",
   "execution_count": 7,
   "metadata": {},
   "outputs": [
    {
     "name": "stdout",
     "output_type": "stream",
     "text": [
      "0\n",
      "1\n",
      "2\n",
      "3\n",
      "4\n",
      "5\n",
      "6\n",
      "7\n",
      "8\n",
      "9\n",
      " \n",
      "0\n",
      "2\n",
      "4\n",
      "6\n",
      "8\n"
     ]
    }
   ],
   "source": [
    "'''\n",
    "for loop\n",
    "'''\n",
    "for i in range(10):\n",
    "    print(i)\n",
    "print(' ')\n",
    "for i in range(0,10,2):\n",
    "    print(i)"
   ]
  },
  {
   "cell_type": "markdown",
   "metadata": {},
   "source": [
    "if...else..."
   ]
  },
  {
   "cell_type": "code",
   "execution_count": 8,
   "metadata": {},
   "outputs": [
    {
     "name": "stdout",
     "output_type": "stream",
     "text": [
      "0.0\n",
      "***\n",
      "1.0\n",
      "1.0\n",
      "2.0\n",
      "***\n",
      "3.0\n",
      "***\n",
      "4.0\n",
      "3.0\n"
     ]
    }
   ],
   "source": [
    "'''\n",
    "if...else\n",
    "'''\n",
    "for i in range(10):\n",
    "    if np.mod(i,2)==0:\n",
    "        print(i/2)\n",
    "    elif np.mod(i,3)==0:\n",
    "        print(i/3)\n",
    "    else:\n",
    "        print('***')"
   ]
  },
  {
   "cell_type": "markdown",
   "metadata": {},
   "source": [
    "A quick demo about how to draw plots in python.\n",
    "%matplotlib inline allows you to draw plots in line, while %pylab allows to draw in a pop-up window. You can comment either of the first two lines to choose one of the two plotting modes."
   ]
  },
  {
   "cell_type": "code",
   "execution_count": 9,
   "metadata": {},
   "outputs": [
    {
     "name": "stdout",
     "output_type": "stream",
     "text": [
      "Using matplotlib backend: Qt5Agg\n",
      "Populating the interactive namespace from numpy and matplotlib\n"
     ]
    }
   ],
   "source": [
    "'''comment either of the two lines to choose one mode of plotting'''\n",
    "\n",
    "#%matplotlib inline\n",
    "%pylab\n",
    "\n",
    "import matplotlib.pyplot as plt\n",
    "import matplotlib\n",
    "matplotlib.rc('xtick', labelsize=12) \n",
    "matplotlib.rc('ytick', labelsize=12) \n",
    "\n",
    "x = np.random.rand(10)\n",
    "x = np.sort(x)\n",
    "y = np.arctan(x)\n",
    "\n",
    "fig = plt.figure()\n",
    "ax = fig.add_subplot(111)\n",
    "ax.plot(x,y,'k+',markersize=12)\n",
    "ax.plot(x,y,'r--')\n",
    "ax.set_xlabel('X',fontsize=12)\n",
    "ax.set_ylabel(r'$\\arctan{\\theta}$',fontsize=12)\n",
    "fig.show()\n"
   ]
  },
  {
   "cell_type": "code",
   "execution_count": 10,
   "metadata": {},
   "outputs": [],
   "source": [
    "x = np.random.normal(0.,10.,size=10000)\n",
    "\n",
    "xgrid = np.arange(-100,105,5)\n",
    "xcenter = (xgrid[1:]+xgrid[:-1])/2.\n",
    "hx,xedge = np.histogram(x,bins=xgrid)\n",
    "\n",
    "fig = plt.figure(figsize=[14,6])\n",
    "ax = fig.add_subplot(121)\n",
    "ax.plot(x,'k.')\n",
    "\n",
    "ax = fig.add_subplot(122)\n",
    "ax.step(xedge[1:],hx,'k-')\n",
    "ax.plot(xcenter,hx,'r-')\n",
    "ax.set_xlabel(r'$y$',fontsize=12)\n",
    "fig.show()"
   ]
  },
  {
   "cell_type": "markdown",
   "metadata": {},
   "source": [
    "Two frequently used figures are contour plot and density plot (image). Here I show these two types of plots in a oversimplified way. You can look up the detailed documentations and learn how to decorate them for publishing."
   ]
  },
  {
   "cell_type": "code",
   "execution_count": 11,
   "metadata": {},
   "outputs": [
    {
     "name": "stdout",
     "output_type": "stream",
     "text": [
      "escape 0.129 sec\n"
     ]
    }
   ],
   "source": [
    "import scipy.stats as stats\n",
    "import time\n",
    "\n",
    "start = time.time()\n",
    "mu = np.array([1.,1.])\n",
    "s1 = 1.\n",
    "s2 = 0.2\n",
    "rho = 0.8\n",
    "sig = np.array([[s1, rho*np.sqrt(s1*s2)],[rho*np.sqrt(s1*s2),s2]])\n",
    "#generate random numbers from 2D normal distribution\n",
    "xx = np.random.multivariate_normal(mu,sig,100000) \n",
    "xgrid = np.arange(-2.,4.,0.2)\n",
    "ygrid = np.arange(-2.,4.,0.2)\n",
    "xcenter = (xgrid[0:-1]+xgrid[1:])/2.\n",
    "ycenter = (ygrid[0:-1]+ygrid[1:])/2.\n",
    "#make 2d histogram\n",
    "hxx,xedge,yedge = np.histogram2d(xx[:,0],xx[:,1],bins=[xgrid,ygrid])\n",
    "\n",
    "fig = plt.figure(figsize=[14,6])\n",
    "plt.set_cmap('jet')\n",
    "ax = fig.add_subplot(121)\n",
    "ax.contour(xcenter,ycenter,hxx.T)\n",
    "ax.set_xlabel(r'$x_1$',fontsize=20)\n",
    "ax.set_ylabel(r'$x_2$',fontsize=20)\n",
    "\n",
    "ax = fig.add_subplot(122)\n",
    "e = ax.imshow(hxx.T,extent=[xcenter[0],xcenter[-1],ycenter[-1],ycenter[0]])\n",
    "plt.colorbar(e)\n",
    "ax.set_ylim([ycenter[0],ycenter[-1]])\n",
    "ax.set_xlabel(r'$x_1$',fontsize=20)\n",
    "ax.set_ylabel(r'$x_2$',fontsize=20)\n",
    "\n",
    "fig.show()\n",
    "print('escape %(s).3f sec' % {'s':time.time()-start})"
   ]
  },
  {
   "cell_type": "markdown",
   "metadata": {},
   "source": [
    "From this cell I demonstrate how to access data file."
   ]
  },
  {
   "cell_type": "code",
   "execution_count": 12,
   "metadata": {},
   "outputs": [
    {
     "name": "stdout",
     "output_type": "stream",
     "text": [
      "['1996E', '0.43', '22.81(0.21)', '22.72(0.23)', '-0.08(0.19)', '0.31', '41.74(0.28)']\n",
      "['1996H', '0.62', '23.23(0.19)', '23.56(0.18)', '-0.42(0.16)', '0.00', '42.98(0.17)']\n",
      "['1996I', '0.57', '23.35(0.28)', '23.59(0.26)', '-0.06(0.26)', '0.00', '42.76(0.19)']\n",
      "['1996J', '0.30', '22.23(0.12)', '22.21(0.11)', '-0.22(0.10)', '0.24', '41.38(0.24)']\n",
      "['1996K', '0.38', '22.64(0.12)', '22.84(0.14)', '0.29(0.06)', '0.00', '41.63(0.20)']\n",
      "['1996U', '0.43', '22.78(0.22)', '22.98(0.30)', '-0.52(0.29)', '0.00', '42.55(0.25)']\n",
      "['1997ce', '0.44', '22.85(0.09)', '22.95(0.09)', '0.07(0.08)', '0.00', '41.95(0.17)']\n",
      "['1997cj', '0.50', '23.19(0.11)', '23.29(0.12)', '-0.04(0.11)', '0.00', '42.40(0.17)']\n",
      "['1997ck', '0.97', '24.78(0.25)', '\\\\ldots', '-0.19(0.23)', '\\\\ldots', '44.39(0.30)']\n",
      "['1995K', '0.48', '22.91(0.13)', '23.08(0.20)', '-0.33(0.26)', '0.00', '42.45(0.17)']\n"
     ]
    }
   ],
   "source": [
    "'''\n",
    "Read files\n",
    "'''\n",
    "\n",
    "f = open('Riess1998_Tab5.txt')\n",
    "# line = f.readline()\n",
    "# print(line)\n",
    "for line in f:\n",
    "    cols = line.split()\n",
    "    print(cols)\n",
    "f.close()\n"
   ]
  },
  {
   "cell_type": "code",
   "execution_count": 13,
   "metadata": {},
   "outputs": [
    {
     "name": "stdout",
     "output_type": "stream",
     "text": [
      " col1  col2     col3        col4        col5     col6      col7   \n",
      "------ ---- ----------- ----------- ----------- ------ -----------\n",
      " 1996E 0.43 22.81(0.21) 22.72(0.23) -0.08(0.19)   0.31 41.74(0.28)\n",
      " 1996H 0.62 23.23(0.19) 23.56(0.18) -0.42(0.16)   0.00 42.98(0.17)\n",
      " 1996I 0.57 23.35(0.28) 23.59(0.26) -0.06(0.26)   0.00 42.76(0.19)\n",
      " 1996J  0.3 22.23(0.12) 22.21(0.11) -0.22(0.10)   0.24 41.38(0.24)\n",
      " 1996K 0.38 22.64(0.12) 22.84(0.14)  0.29(0.06)   0.00 41.63(0.20)\n",
      " 1996U 0.43 22.78(0.22) 22.98(0.30) -0.52(0.29)   0.00 42.55(0.25)\n",
      "1997ce 0.44 22.85(0.09) 22.95(0.09)  0.07(0.08)   0.00 41.95(0.17)\n",
      "1997cj  0.5 23.19(0.11) 23.29(0.12) -0.04(0.11)   0.00 42.40(0.17)\n",
      "1997ck 0.97 24.78(0.25)      \\ldots -0.19(0.23) \\ldots 44.39(0.30)\n",
      " 1995K 0.48 22.91(0.13) 23.08(0.20) -0.33(0.26)   0.00 42.45(0.17)\n"
     ]
    }
   ],
   "source": [
    "'''\n",
    "read ASCII file in a more comfortable way\n",
    "'''\n",
    "from astropy.table import Table\n",
    "\n",
    "data = Table.read('Riess1998_Tab5.txt',format=\"ascii.no_header\")\n",
    "print(data)"
   ]
  },
  {
   "cell_type": "code",
   "execution_count": 14,
   "metadata": {},
   "outputs": [],
   "source": [
    "'''\n",
    "write ASCII file\n",
    "'''\n",
    "import csv\n",
    "\n",
    "rows = [[32, 33, 34],['a','b','c']]\n",
    "\n",
    "with open(\"test.csv\",\"wt\") as f:\n",
    "    c_w = csv.writer(f, quoting=csv.QUOTE_NONE)\n",
    "    c_w.writerows(rows)\n"
   ]
  },
  {
   "cell_type": "code",
   "execution_count": 22,
   "metadata": {},
   "outputs": [
    {
     "name": "stderr",
     "output_type": "stream",
     "text": [
      "<ipython-input-22-7585d0260bec>:16: RuntimeWarning: invalid value encountered in log\n",
      "  e = ax.imshow(np.log(im))\n"
     ]
    }
   ],
   "source": [
    "'''\n",
    "Read a fits image file\n",
    "'''\n",
    "import astropy.io.fits as fits\n",
    "\n",
    "def readImage(filename):\n",
    "    hdulist = fits.open(filename)\n",
    "    im = hdulist[0].data.copy()\n",
    "    hdulist.close()\n",
    "    return im\n",
    "\n",
    "im = readImage('image.fits')\n",
    "fig = plt.figure()\n",
    "plt.set_cmap('gray')\n",
    "ax = fig.add_subplot(111)\n",
    "e = ax.imshow(np.log(im))\n",
    "plt.colorbar(e)\n",
    "#ax.set_ylim()\n",
    "fig.show()"
   ]
  },
  {
   "cell_type": "code",
   "execution_count": 17,
   "metadata": {},
   "outputs": [],
   "source": [
    "'''\n",
    "Write an image from a fits file\n",
    "'''\n",
    "import numpy\n",
    "from astropy.io import fits as pyfits\n",
    "\n",
    "\n",
    "fitsfile = pyfits.open('image.fits', mode='update')\n",
    "image  = fitsfile[0].data\n",
    "header = fitsfile[0].header\n",
    "\n",
    "'''\n",
    "write image to a fits file\n",
    "'''\n",
    "pyfits.writeto('image_2.fits',image,header)"
   ]
  },
  {
   "cell_type": "code",
   "execution_count": 18,
   "metadata": {},
   "outputs": [
    {
     "name": "stdout",
     "output_type": "stream",
     "text": [
      "1316.8409611736695\n"
     ]
    }
   ],
   "source": [
    "'''\n",
    "Read table data from a fit file\n",
    "'''\n",
    "\n",
    "def loadData(filename):\n",
    "    '''\n",
    "    Read fits data\n",
    "    \n",
    "    '''\n",
    "    tchfits = fits.open(filename)\n",
    "    tabl = tchfits[1].data.copy()\n",
    "    return tabl\n",
    "\n",
    "filename = 'ComaCluster.fits'\n",
    "coma = loadData(filename)\n",
    "cz = coma.czA[(coma.czA<20000) & (coma.czA>0)]\n",
    "sig_cz = np.var(cz)\n",
    "print(np.sqrt(sig_cz))\n",
    "zgrid =np.arange(2000.,12000.,750.)\n",
    "h, xedge = np.histogram(cz, bins=zgrid)\n",
    "fig = plt.figure(figsize=[4,4])\n",
    "ax = fig.add_subplot(111)\n",
    "ax.plot(zgrid[0:-1]+250.,h,'k*-')\n",
    "ax.set_xlabel('redshift (km/s)')\n",
    "fig.show()"
   ]
  },
  {
   "cell_type": "code",
   "execution_count": 19,
   "metadata": {},
   "outputs": [
    {
     "name": "stdout",
     "output_type": "stream",
     "text": [
      " _RAJ2000 _DEJ2000  S     ID   f_ID  PT ...  czA   e_czA  S/N  MType A06 Simbad\n",
      "   deg      deg                         ... km / s km / s                      \n",
      "--------- -------- --- ------- ---- --- ... ------ ------ ---- ----- --- ------\n",
      " 194.8585 28.01778  Mm  132151        4 ...   5486    130  6.3   ImV   1 Simbad\n",
      "194.87846 28.04187  Mm  133494        2 ...   6549     77 44.6   E     0 Simbad\n",
      "194.88221 27.96338  Mm  190797        3 ...   8860     74  5.0   dE    1 Simbad\n",
      "194.89312 27.99539  Mm  191169        2 ...   5225     61 15.3   dE    1 Simbad\n",
      "194.89679 27.98063  Mm  192254        3 ...   7355    110  4.5   dE    1 Simbad\n",
      "194.90867 27.94901  Mm  194749        3 ...   6128     79  7.1   dE    1 Simbad\n",
      "194.91092 27.94962  Mm 1038885    e   2 ...   6718     47  5.1   dE    1 Simbad\n",
      "194.92612 28.01515  Mm  122743        4 ...   7934     77 40.7   E     1 Simbad\n",
      "194.92887  27.9984  Mm  195506        2 ...   8497     83 11.3   dE    0 Simbad\n",
      "194.93308 27.96721  Mm  196718        2 ...   7926     94  6.2   dE    1 Simbad\n",
      "      ...      ... ...     ...  ... ... ...    ...    ...  ...   ... ...    ...\n",
      "195.06767 27.91224  PM  230751        2 ...     --     --  nan   dE    1 Simbad\n",
      "195.07887 27.96682  PM  160792        3 ...     --     --  nan   dE    1 Simbad\n",
      "195.08446 28.03393  PM  102885        1 ...     --     --  nan   dE    1 Simbad\n",
      "195.09079 28.07819  PM   32799        3 ...     --     --  nan   cE    1 Simbad\n",
      "195.10258 28.06191  PM   20411        3 ...     --     --  nan         1 Simbad\n",
      "195.13754 27.99557  PM  160003        2 ...     --     --  nan         1 Simbad\n",
      "194.91971 27.95081  PB  195768        4 ...     --     --  nan   E     1 Simbad\n",
      "195.08542 27.95002  PB  161665        4 ...     --     --  nan   Sp    1 Simbad\n",
      "195.11896 27.98311  PB  162881        4 ...     --     --  nan   E     1 Simbad\n",
      "195.18246 27.98334  PB  151841        3 ...     --     --  nan         1 Simbad\n",
      "Length = 101 rows\n",
      "1316.8409611736695\n"
     ]
    }
   ],
   "source": [
    "from astropy.table import Table\n",
    "filename = 'ComaCluster.fits'\n",
    "coma = Table.read(filename)\n",
    "print(coma)\n",
    "cz = coma['czA'][(coma['czA']<20000) & (coma['czA']>0)]\n",
    "sig_cz = np.var(cz)\n",
    "print(np.sqrt(sig_cz))\n",
    "zgrid =np.arange(2000.,12000.,750.)\n",
    "h, xedge = np.histogram(cz, bins=zgrid)\n",
    "fig = plt.figure(figsize=[4,4])\n",
    "ax = fig.add_subplot(111)\n",
    "ax.plot(zgrid[0:-1]+250.,h,'k*-')\n",
    "ax.set_xlabel('redshift (km/s)')\n",
    "fig.show()"
   ]
  },
  {
   "cell_type": "code",
   "execution_count": 20,
   "metadata": {},
   "outputs": [],
   "source": [
    "'''\n",
    "read a spectrum fits file\n",
    "'''\n",
    "filename = '351110104.fits'\n",
    "tchfits = fits.open(filename)\n",
    "log_wv0 = tchfits[0].header['CRVAL1']\n",
    "log_dwv = tchfits[0].header['CD1_1']\n",
    "\n",
    "sp = tchfits[0].data.copy()\n",
    "\n",
    "N = len(sp[0,:])\n",
    "wv = 10**(log_wv0+np.arange(0,N,1)*log_dwv)\n",
    "\n",
    "fig = plt.figure(figsize=[10,4])\n",
    "ax = fig.add_subplot(111)\n",
    "ax.plot(wv,sp[0,:],'k-')\n",
    "ax.set_xlim([4000,9000])\n",
    "fig.show()"
   ]
  },
  {
   "cell_type": "code",
   "execution_count": 21,
   "metadata": {},
   "outputs": [],
   "source": [
    "'''\n",
    "write table fits\n",
    "'''\n",
    "from astropy.table import Table\n",
    "t = Table([[1, 2], [4, 5], [7, 8]], names=('a', 'b', 'c'))\n",
    "t.write('table1.fits', format='fits')\n",
    "\n",
    "c1 = fits.Column(name='a', array=np.array([1, 2]), format='K')\n",
    "c2 = fits.Column(name='b', array=np.array([4, 5]), format='K')\n",
    "c3 = fits.Column(name='c', array=np.array([7, 8]), format='K')\n",
    "t = fits.BinTableHDU.from_columns([c1, c2, c3])\n",
    "t.writeto('table2.fits')"
   ]
  },
  {
   "cell_type": "code",
   "execution_count": null,
   "metadata": {},
   "outputs": [],
   "source": []
  }
 ],
 "metadata": {
  "kernelspec": {
   "display_name": "Python 3",
   "language": "python",
   "name": "python3"
  },
  "language_info": {
   "codemirror_mode": {
    "name": "ipython",
    "version": 3
   },
   "file_extension": ".py",
   "mimetype": "text/x-python",
   "name": "python",
   "nbconvert_exporter": "python",
   "pygments_lexer": "ipython3",
   "version": "3.8.5"
  },
  "widgets": {
   "application/vnd.jupyter.widget-state+json": {
    "state": {},
    "version_major": 2,
    "version_minor": 0
   }
  }
 },
 "nbformat": 4,
 "nbformat_minor": 4
}
